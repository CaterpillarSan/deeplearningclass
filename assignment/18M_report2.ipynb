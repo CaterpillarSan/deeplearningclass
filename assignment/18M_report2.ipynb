{
  "nbformat": 4,
  "nbformat_minor": 0,
  "metadata": {
    "colab": {
      "name": "(YourID)_report2.ipynb",
      "version": "0.3.2",
      "provenance": []
    },
    "kernelspec": {
      "display_name": "Python 3",
      "language": "python",
      "name": "python3"
    }
  },
  "cells": [
    {
      "metadata": {
        "id": "JGplR_ugZwKS",
        "colab_type": "text"
      },
      "cell_type": "markdown",
      "source": [
        "# Machine Learning: Intermediate report\n",
        "\n",
        "+ Your name (Your ID)"
      ]
    },
    {
      "metadata": {
        "id": "cf-xpHEtZwKT",
        "colab_type": "text"
      },
      "cell_type": "markdown",
      "source": [
        "Prepare an environment for running Python codes on Jupyter notebook. The most easiest way is to use [Google Colaboratory](https://colab.research.google.com/).\n",
        "\n",
        "Write codes for the following three (and one optional) problems, and submit the notebook (`.ipynb`) as well as its HTML conversion (`.html`). *We do not accept a report in other formats (e.g., Word, PDF)*. Write a code at the specified cell in the notebook. One can add more cells if necessary.\n",
        "\n",
        "These are the links to the sample codes used in the lecture:\n",
        "\n",
        "+ [Binary classification](https://github.com/chokkan/deeplearningclass/blob/master/mlp_binary.ipynb)\n",
        "+ [MNIST](https://github.com/chokkan/deeplearningclass/blob/master/mnist.ipynb)"
      ]
    },
    {
      "metadata": {
        "id": "-NDbOw0UZwKU",
        "colab_type": "text"
      },
      "cell_type": "markdown",
      "source": [
        "## 1. Multi-class classification on MNIST\n",
        "\n",
        "Train a model on the training set of MNIST, and report the accuracy of the model on the test set. One can use the same code shown in the lecture. Write a code here and show the output."
      ]
    },
    {
      "metadata": {
        "id": "IsObMIe9ZwKW",
        "colab_type": "code",
        "colab": {}
      },
      "cell_type": "code",
      "source": [
        ""
      ],
      "execution_count": 0,
      "outputs": []
    },
    {
      "metadata": {
        "id": "3rbyb3EyZwKb",
        "colab_type": "text"
      },
      "cell_type": "markdown",
      "source": [
        "## 2. Confusion matrix\n",
        "\n",
        "Show a confusion matrix of the predictions of the model on the test set. This is an example of a confusion matrix.\n",
        "\n",
        "![example](https://github.com/CaterpillarSan/deeplearningclass/blob/master/assignment/example-confusion-matrix.png?raw=1)\n",
        "\n",
        "Write a code here and show the confusion matrix."
      ]
    },
    {
      "metadata": {
        "id": "j6FfXOS-ZwKd",
        "colab_type": "code",
        "colab": {}
      },
      "cell_type": "code",
      "source": [
        ""
      ],
      "execution_count": 0,
      "outputs": []
    },
    {
      "metadata": {
        "id": "xEmyRsXqZwKf",
        "colab_type": "text"
      },
      "cell_type": "markdown",
      "source": [
        "## 3. Top-3 confusing examples\n",
        "\n",
        "Show the top three images where the model misrecognized their digits with strong confidences. More specifically, let $y_n$ and $\\hat{y}_n$ the true and predicted, respectively, digits of the image $x_n$. We want to find three images with high $P(\\hat{y}_n | x_n)$ when $y_n \\neq \\hat{y}_n$.\n",
        "\n",
        "Please show $y_n$, $P(y_n | x_n)$, $\\hat{y}_n$, and $P(\\hat{y}_n | x_n)$. This is an example of an output for an image (you need this kind of outputs for top-three images).\n",
        "\n",
        "![example](https://github.com/CaterpillarSan/deeplearningclass/blob/master/assignment/example-confusing-sample.png?raw=1)\n",
        "\n",
        "Write a code here and show the output."
      ]
    },
    {
      "metadata": {
        "id": "Yu_QTcsbZwKg",
        "colab_type": "code",
        "colab": {}
      },
      "cell_type": "code",
      "source": [
        ""
      ],
      "execution_count": 0,
      "outputs": []
    },
    {
      "metadata": {
        "id": "I0Far-6fZwKm",
        "colab_type": "text"
      },
      "cell_type": "markdown",
      "source": [
        "## 4. Sample codes in other DL frameworks\n",
        "\n",
        "(Advanced; optional) Implement one or more sample code(s) with a different deep learning framework (e.g., Chainer, TensorFlow, DyNet) corresponding to the slides 60-66 in binary classification. *When subitting an answer to this problem, please agree that some of the submitted codes will be distributed on the Web site to improve this lecture.*"
      ]
    },
    {
      "metadata": {
        "id": "9g5YQ1NTZwKo",
        "colab_type": "code",
        "colab": {}
      },
      "cell_type": "code",
      "source": [
        ""
      ],
      "execution_count": 0,
      "outputs": []
    }
  ]
}